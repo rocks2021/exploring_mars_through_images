{
  "nbformat": 4,
  "nbformat_minor": 0,
  "metadata": {
    "colab": {
      "provenance": [],
      "authorship_tag": "ABX9TyOa1EYepEoVCfdRD2B9R4IR",
      "include_colab_link": true
    },
    "kernelspec": {
      "name": "python3",
      "display_name": "Python 3"
    },
    "language_info": {
      "name": "python"
    }
  },
  "cells": [
    {
      "cell_type": "markdown",
      "metadata": {
        "id": "view-in-github",
        "colab_type": "text"
      },
      "source": [
        "<a href=\"https://colab.research.google.com/github/rocks2021/exploring_mars_through_images/blob/main/python_basics.ipynb\" target=\"_parent\"><img src=\"https://colab.research.google.com/assets/colab-badge.svg\" alt=\"Open In Colab\"/></a>"
      ]
    },
    {
      "cell_type": "markdown",
      "source": [
        "Python variable:   \n",
        "When you assign a value to a variable, you create a variable in Python.   \n",
        "The command a=3 means that I create a variable a which is associated with the value 3.   \n",
        "Python is case sensitive. a and A are different variables. "
      ],
      "metadata": {
        "id": "7CvklsVzng6_"
      }
    },
    {
      "cell_type": "code",
      "source": [
        "# When you assign a value to a variable you create a variable in Python.\n",
        "\n",
        "a = 7 # one variable\n",
        "b = 11 # another variable\n",
        "print(a)\n",
        "print(b)\n",
        "\n",
        "c = a + b #new variable\n",
        "print(c)"
      ],
      "metadata": {
        "colab": {
          "base_uri": "https://localhost:8080/"
        },
        "id": "uz-qgwOrnS89",
        "outputId": "aa209476-0812-476d-d142-2224036651cd"
      },
      "execution_count": 1,
      "outputs": [
        {
          "output_type": "stream",
          "name": "stdout",
          "text": [
            "7\n",
            "11\n",
            "18\n"
          ]
        }
      ]
    },
    {
      "cell_type": "code",
      "source": [
        "# The equal sign in programming is not the same as a truth statement in math.   \n",
        "# In programming, x=2 means a known value, 2 is associated with a variable, x.\n",
        "\n",
        "z = 1\n",
        "print (z)\n",
        "z = 7\n",
        "print(z)"
      ],
      "metadata": {
        "colab": {
          "base_uri": "https://localhost:8080/"
        },
        "id": "gbPcHnhmnbti",
        "outputId": "6c2dac7b-f6e7-460c-fb73-41a9e36b8681"
      },
      "execution_count": 2,
      "outputs": [
        {
          "output_type": "stream",
          "name": "stdout",
          "text": [
            "1\n",
            "7\n"
          ]
        }
      ]
    },
    {
      "cell_type": "code",
      "source": [
        "# The value stored in a variable is the last one assigned to it. \n",
        "# The initial value is lost once the second assignment to the value is evaluated. \n",
        "\n",
        "z "
      ],
      "metadata": {
        "colab": {
          "base_uri": "https://localhost:8080/"
        },
        "id": "lh5aMcbqqBQX",
        "outputId": "69589e5f-d7a0-4f4c-c973-c5426f97a3c6"
      },
      "execution_count": 3,
      "outputs": [
        {
          "output_type": "execute_result",
          "data": {
            "text/plain": [
              "7"
            ]
          },
          "metadata": {},
          "execution_count": 3
        }
      ]
    },
    {
      "cell_type": "code",
      "source": [
        "z = z + 1\n",
        "print(z)"
      ],
      "metadata": {
        "colab": {
          "base_uri": "https://localhost:8080/"
        },
        "id": "Y3TadSAhqCGA",
        "outputId": "d4ba9ce4-b461-4f8e-fbfa-5f738ad47115"
      },
      "execution_count": 4,
      "outputs": [
        {
          "output_type": "stream",
          "name": "stdout",
          "text": [
            "8\n"
          ]
        }
      ]
    },
    {
      "cell_type": "markdown",
      "source": [
        "A list is a way to group elements into a single object.   \n",
        "After defining a list, you can retrieve each item of the list one by one, or add new ones..."
      ],
      "metadata": {
        "id": "fVQKiofWkgxv"
      }
    },
    {
      "cell_type": "code",
      "source": [
        "#A list can be a list of integers or a list of strings.\n",
        "\n",
        "L1 = [1,2,3,4,5,6,7]\n",
        "L2 = [\"A\",\"B\",\"C\"]\n",
        "L3 = [] #empty list, extremely useful!"
      ],
      "metadata": {
        "id": "NEMSU8eVkgUP"
      },
      "execution_count": 5,
      "outputs": []
    },
    {
      "cell_type": "code",
      "source": [
        "#To get an item in the list, use L[i] where i is the rank of the item. you start counting from 0.\n",
        "\n",
        "L1[0]"
      ],
      "metadata": {
        "colab": {
          "base_uri": "https://localhost:8080/"
        },
        "id": "gFFTkoeQlNPd",
        "outputId": "4281df90-e191-435a-d3c0-ba61274c5fa6"
      },
      "execution_count": 6,
      "outputs": [
        {
          "output_type": "execute_result",
          "data": {
            "text/plain": [
              "1"
            ]
          },
          "metadata": {},
          "execution_count": 6
        }
      ]
    },
    {
      "cell_type": "code",
      "source": [
        "L2[2]"
      ],
      "metadata": {
        "colab": {
          "base_uri": "https://localhost:8080/",
          "height": 36
        },
        "id": "ktHx-Ca7lnE1",
        "outputId": "1091a06b-502d-49c0-ac37-fcf3b83f21ee"
      },
      "execution_count": 7,
      "outputs": [
        {
          "output_type": "execute_result",
          "data": {
            "text/plain": [
              "'C'"
            ],
            "application/vnd.google.colaboratory.intrinsic+json": {
              "type": "string"
            }
          },
          "metadata": {},
          "execution_count": 7
        }
      ]
    },
    {
      "cell_type": "code",
      "source": [
        "#The length of a list is the number of elements it contains.\n",
        "\n",
        "len(L1)"
      ],
      "metadata": {
        "colab": {
          "base_uri": "https://localhost:8080/"
        },
        "id": "Dii0Gi8Flpim",
        "outputId": "a4264c04-5e07-4dda-e347-845168946011"
      },
      "execution_count": 8,
      "outputs": [
        {
          "output_type": "execute_result",
          "data": {
            "text/plain": [
              "7"
            ]
          },
          "metadata": {},
          "execution_count": 8
        }
      ]
    },
    {
      "cell_type": "markdown",
      "source": [
        "\n",
        "The Python for loop is the easiest way to repeat doing something.   \n",
        "\n",
        "A for Loop is used to repeat a specific block of code a known number of times.   \n",
        "\n",
        "Note that what delimits the block of instructions to be repeated is indentation, i.e. the spaces at the beginning of each line that shift the lines to the right. All lines in a block must have exactly the same indentation.    \n",
        "\n",
        "Don't forget the colon at the end of the line of the for declaration."
      ],
      "metadata": {
        "id": "Cd3oH44jmbdp"
      }
    },
    {
      "cell_type": "code",
      "source": [
        "L = ['a','b','c','d']\n",
        "\n",
        "for i in L:\n",
        "  print(i)"
      ],
      "metadata": {
        "colab": {
          "base_uri": "https://localhost:8080/"
        },
        "id": "V2VM7qo8maL3",
        "outputId": "66b91118-6ca1-400b-d6a9-603ef75f1a65"
      },
      "execution_count": 9,
      "outputs": [
        {
          "output_type": "stream",
          "name": "stdout",
          "text": [
            "a\n",
            "b\n",
            "c\n",
            "d\n"
          ]
        }
      ]
    },
    {
      "cell_type": "code",
      "source": [
        "L = [1,3,5,7]\n",
        "\n",
        "for i in L:\n",
        "  print(i+1) # indented block of code will be repeated 4 times.\n",
        "print(i+2) # program continuation"
      ],
      "metadata": {
        "colab": {
          "base_uri": "https://localhost:8080/"
        },
        "id": "G7zYDjLSsWYh",
        "outputId": "2727ca1d-8bbc-4cf4-c327-79313dae318f"
      },
      "execution_count": 10,
      "outputs": [
        {
          "output_type": "stream",
          "name": "stdout",
          "text": [
            "2\n",
            "4\n",
            "6\n",
            "8\n",
            "9\n"
          ]
        }
      ]
    },
    {
      "cell_type": "markdown",
      "source": [
        "Python range() Function   \n",
        "The rang() function is a built-in function in Python. The range() function returns a sequence of numbers, starting from 0 by default, and increments by 1 by default, and stops before a specified number.   \n",
        "\n",
        "range(start, stop, step)   \n",
        "start: Optional. An integer number specifying at which position to start. Default is 0.   \n",
        "stop: Required. An integer number specifying at which position to stop (not included).   \n",
        "step: Optional. An integer number specifying the incrementation. Default is 1.\n",
        "\n"
      ],
      "metadata": {
        "id": "ZlaQO9hiBMjd"
      }
    },
    {
      "cell_type": "code",
      "source": [
        "for i in range(3):\n",
        "  print(i)"
      ],
      "metadata": {
        "colab": {
          "base_uri": "https://localhost:8080/"
        },
        "id": "Z8z5s2K2tOhM",
        "outputId": "895c15fa-4024-4b9f-8307-8980a6daf349"
      },
      "execution_count": 11,
      "outputs": [
        {
          "output_type": "stream",
          "name": "stdout",
          "text": [
            "0\n",
            "1\n",
            "2\n"
          ]
        }
      ]
    },
    {
      "cell_type": "code",
      "source": [
        "list(range(3))"
      ],
      "metadata": {
        "colab": {
          "base_uri": "https://localhost:8080/"
        },
        "id": "3B_VSTsftYWU",
        "outputId": "0d261182-2df6-4d20-b084-f087712b5e1b"
      },
      "execution_count": 12,
      "outputs": [
        {
          "output_type": "execute_result",
          "data": {
            "text/plain": [
              "[0, 1, 2]"
            ]
          },
          "metadata": {},
          "execution_count": 12
        }
      ]
    },
    {
      "cell_type": "code",
      "execution_count": 13,
      "metadata": {
        "colab": {
          "base_uri": "https://localhost:8080/"
        },
        "id": "jkf8L-jwAqAh",
        "outputId": "a2ec1851-86fd-41fd-fb91-a09b9df6c823"
      },
      "outputs": [
        {
          "output_type": "stream",
          "name": "stdout",
          "text": [
            "1\n",
            "2\n",
            "3\n",
            "4\n",
            "5\n",
            "6\n",
            "7\n"
          ]
        }
      ],
      "source": [
        "#Print a sequence of numbers from 1 to 7, and print each item in the sequence.\n",
        "\n",
        "z = range(1,8)\n",
        "for i in z:\n",
        "  print(i)"
      ]
    },
    {
      "cell_type": "code",
      "source": [
        "#Create a sequence of numbers from 11 to 17, and print each item in the sequence.\n",
        "\n",
        "z = range(11, 18)\n",
        "for i in z:\n",
        "  print(i)"
      ],
      "metadata": {
        "colab": {
          "base_uri": "https://localhost:8080/"
        },
        "id": "4s19jOLMCi0l",
        "outputId": "8155ae89-4946-4583-f492-ae1843d20843"
      },
      "execution_count": 14,
      "outputs": [
        {
          "output_type": "stream",
          "name": "stdout",
          "text": [
            "11\n",
            "12\n",
            "13\n",
            "14\n",
            "15\n",
            "16\n",
            "17\n"
          ]
        }
      ]
    },
    {
      "cell_type": "code",
      "source": [
        "#Create a sequence of numbers from 7 to 19, increment by 2.\n",
        "\n",
        "z = range(7, 20, 2)\n",
        "for i in z:\n",
        "  print(i)"
      ],
      "metadata": {
        "colab": {
          "base_uri": "https://localhost:8080/"
        },
        "id": "la4-tL4hC5uM",
        "outputId": "b244bf27-8063-44f7-a13f-cc84be850691"
      },
      "execution_count": 15,
      "outputs": [
        {
          "output_type": "stream",
          "name": "stdout",
          "text": [
            "7\n",
            "9\n",
            "11\n",
            "13\n",
            "15\n",
            "17\n",
            "19\n"
          ]
        }
      ]
    },
    {
      "cell_type": "code",
      "source": [
        "list(range(3,10))"
      ],
      "metadata": {
        "colab": {
          "base_uri": "https://localhost:8080/"
        },
        "id": "unO0nAmetjiv",
        "outputId": "50f68ae7-3292-475e-e92e-23ce09351717"
      },
      "execution_count": 16,
      "outputs": [
        {
          "output_type": "execute_result",
          "data": {
            "text/plain": [
              "[3, 4, 5, 6, 7, 8, 9]"
            ]
          },
          "metadata": {},
          "execution_count": 16
        }
      ]
    },
    {
      "cell_type": "code",
      "source": [
        "list(range(10, 3, -1))"
      ],
      "metadata": {
        "colab": {
          "base_uri": "https://localhost:8080/"
        },
        "id": "XaeMllhytq5r",
        "outputId": "8c82a4e5-e6a7-447b-83c1-46e8d39688ae"
      },
      "execution_count": 17,
      "outputs": [
        {
          "output_type": "execute_result",
          "data": {
            "text/plain": [
              "[10, 9, 8, 7, 6, 5, 4]"
            ]
          },
          "metadata": {},
          "execution_count": 17
        }
      ]
    },
    {
      "cell_type": "code",
      "source": [
        "list(range(3,10,2))"
      ],
      "metadata": {
        "colab": {
          "base_uri": "https://localhost:8080/"
        },
        "id": "r5wh_T8Vt0gJ",
        "outputId": "724b7020-f2db-4d4e-c4e2-9c88c8daadb7"
      },
      "execution_count": 18,
      "outputs": [
        {
          "output_type": "execute_result",
          "data": {
            "text/plain": [
              "[3, 5, 7, 9]"
            ]
          },
          "metadata": {},
          "execution_count": 18
        }
      ]
    },
    {
      "cell_type": "code",
      "source": [
        "# Create a loop that displays the squares of the first ten integers.\n",
        "\n",
        "for i in range(10):\n",
        "  print(i*i)\n"
      ],
      "metadata": {
        "colab": {
          "base_uri": "https://localhost:8080/"
        },
        "id": "RoGTme5vt4jr",
        "outputId": "1a6baf3d-f6aa-4c1f-9628-13ce038157ff"
      },
      "execution_count": 19,
      "outputs": [
        {
          "output_type": "stream",
          "name": "stdout",
          "text": [
            "0\n",
            "1\n",
            "4\n",
            "9\n",
            "16\n",
            "25\n",
            "36\n",
            "49\n",
            "64\n",
            "81\n"
          ]
        }
      ]
    },
    {
      "cell_type": "code",
      "source": [
        "# Create a loop that displays the cube of the first seven prime numbers.\n",
        "\n",
        "for i in [2,3,5,7,11,13,17]:\n",
        "  print(i**3)"
      ],
      "metadata": {
        "colab": {
          "base_uri": "https://localhost:8080/"
        },
        "id": "bHHHdYecvjDw",
        "outputId": "5341af42-e8ad-4dc5-addd-80be3cab36c9"
      },
      "execution_count": 20,
      "outputs": [
        {
          "output_type": "stream",
          "name": "stdout",
          "text": [
            "8\n",
            "27\n",
            "125\n",
            "343\n",
            "1331\n",
            "2197\n",
            "4913\n"
          ]
        }
      ]
    },
    {
      "cell_type": "code",
      "source": [
        "# Create a loop that displays the cubes of integers from 0 to 100.\n",
        "\n",
        "for i in range(101):\n",
        "  print (i**3)"
      ],
      "metadata": {
        "colab": {
          "base_uri": "https://localhost:8080/"
        },
        "id": "cs1FH9AUyI_z",
        "outputId": "c1722365-e156-4881-a3dd-cc4a183f986a"
      },
      "execution_count": 21,
      "outputs": [
        {
          "output_type": "stream",
          "name": "stdout",
          "text": [
            "0\n",
            "1\n",
            "8\n",
            "27\n",
            "64\n",
            "125\n",
            "216\n",
            "343\n",
            "512\n",
            "729\n",
            "1000\n",
            "1331\n",
            "1728\n",
            "2197\n",
            "2744\n",
            "3375\n",
            "4096\n",
            "4913\n",
            "5832\n",
            "6859\n",
            "8000\n",
            "9261\n",
            "10648\n",
            "12167\n",
            "13824\n",
            "15625\n",
            "17576\n",
            "19683\n",
            "21952\n",
            "24389\n",
            "27000\n",
            "29791\n",
            "32768\n",
            "35937\n",
            "39304\n",
            "42875\n",
            "46656\n",
            "50653\n",
            "54872\n",
            "59319\n",
            "64000\n",
            "68921\n",
            "74088\n",
            "79507\n",
            "85184\n",
            "91125\n",
            "97336\n",
            "103823\n",
            "110592\n",
            "117649\n",
            "125000\n",
            "132651\n",
            "140608\n",
            "148877\n",
            "157464\n",
            "166375\n",
            "175616\n",
            "185193\n",
            "195112\n",
            "205379\n",
            "216000\n",
            "226981\n",
            "238328\n",
            "250047\n",
            "262144\n",
            "274625\n",
            "287496\n",
            "300763\n",
            "314432\n",
            "328509\n",
            "343000\n",
            "357911\n",
            "373248\n",
            "389017\n",
            "405224\n",
            "421875\n",
            "438976\n",
            "456533\n",
            "474552\n",
            "493039\n",
            "512000\n",
            "531441\n",
            "551368\n",
            "571787\n",
            "592704\n",
            "614125\n",
            "636056\n",
            "658503\n",
            "681472\n",
            "704969\n",
            "729000\n",
            "753571\n",
            "778688\n",
            "804357\n",
            "830584\n",
            "857375\n",
            "884736\n",
            "912673\n",
            "941192\n",
            "970299\n",
            "1000000\n"
          ]
        }
      ]
    },
    {
      "cell_type": "code",
      "source": [
        "# Create a loop that calculates the sum: 1^2 + 2^2 +3^2 +... + i^2 +... + 40^2\n",
        "\n",
        "n = 40\n",
        "total = 0\n",
        "for i in range(n+1):\n",
        "  total = total + i**2\n",
        "print(total)"
      ],
      "metadata": {
        "colab": {
          "base_uri": "https://localhost:8080/"
        },
        "id": "cttdkjRozAJZ",
        "outputId": "53c9c5db-dad2-425f-b331-fb887004be25"
      },
      "execution_count": 22,
      "outputs": [
        {
          "output_type": "stream",
          "name": "stdout",
          "text": [
            "22140\n"
          ]
        }
      ]
    },
    {
      "cell_type": "code",
      "source": [
        "# Use the Python range() function and for loop to write a program that calculates 0+1+2+3+4+5+6+7.\n",
        "# A variable total is initialized at 0. Then we will add 0, then 1, then 2...\n",
        "\n",
        "total = 0\n",
        "for i in range(8):\n",
        "  total = total + i\n",
        "print(total)"
      ],
      "metadata": {
        "colab": {
          "base_uri": "https://localhost:8080/"
        },
        "id": "MQmT9snQv6Q4",
        "outputId": "62697784-ad32-46d5-9d85-8b61ee283447"
      },
      "execution_count": 23,
      "outputs": [
        {
          "output_type": "stream",
          "name": "stdout",
          "text": [
            "28\n"
          ]
        }
      ]
    },
    {
      "cell_type": "markdown",
      "source": [
        "Python Functions   \n",
        "A function is a block of code which only runs when it is called.   \n",
        "In Python a function is defined using the `def` keyword.   \n",
        "To call a function, use the function name followed by parenthesis.\n",
        "\n"
      ],
      "metadata": {
        "id": "-yZl_jmkM3e3"
      }
    },
    {
      "cell_type": "code",
      "source": [
        "def calculate(x):\n",
        "  print(x+7)\n",
        "\n",
        "calculate(10)"
      ],
      "metadata": {
        "colab": {
          "base_uri": "https://localhost:8080/"
        },
        "id": "IoiO8dDCM11S",
        "outputId": "14ad9357-c3ee-4426-9f30-e3622b41b4cc"
      },
      "execution_count": 24,
      "outputs": [
        {
          "output_type": "stream",
          "name": "stdout",
          "text": [
            "17\n"
          ]
        }
      ]
    }
  ]
}