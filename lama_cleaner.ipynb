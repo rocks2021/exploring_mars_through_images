{
  "nbformat": 4,
  "nbformat_minor": 0,
  "metadata": {
    "colab": {
      "provenance": [],
      "collapsed_sections": [],
      "include_colab_link": true
    },
    "kernelspec": {
      "name": "python3",
      "display_name": "Python 3"
    },
    "language_info": {
      "name": "python"
    },
    "accelerator": "GPU",
    "gpuClass": "standard"
  },
  "cells": [
    {
      "cell_type": "markdown",
      "metadata": {
        "id": "view-in-github",
        "colab_type": "text"
      },
      "source": [
        "<a href=\"https://colab.research.google.com/github/rocks2021/exploring_mars_through_images/blob/main/lama_cleaner.ipynb\" target=\"_parent\"><img src=\"https://colab.research.google.com/assets/colab-badge.svg\" alt=\"Open In Colab\"/></a>"
      ]
    },
    {
      "cell_type": "markdown",
      "source": [
        "This Colab is based on https://colab.research.google.com/drive/1e3ZkAJxvkK3uzaTGu91N9TvI_Mahs0Wb?usp=sharing\n"
      ],
      "metadata": {
        "id": "CN6fsD_PX9bL"
      }
    },
    {
      "cell_type": "code",
      "execution_count": 1,
      "metadata": {
        "id": "lk9wAWLScQ1R",
        "colab": {
          "base_uri": "https://localhost:8080/"
        },
        "outputId": "ae2c8168-031b-4ab8-d6c7-0323da86ca6b"
      },
      "outputs": [
        {
          "output_type": "stream",
          "name": "stdout",
          "text": [
            "Looking in indexes: https://pypi.org/simple, https://us-python.pkg.dev/colab-wheels/public/simple/\n",
            "Collecting lama-cleaner\n",
            "  Downloading lama_cleaner-0.25.0-py3-none-any.whl (1.0 MB)\n",
            "\u001b[K     |████████████████████████████████| 1.0 MB 33.4 MB/s \n",
            "\u001b[?25hCollecting pyngrok\n",
            "  Downloading pyngrok-5.1.0.tar.gz (745 kB)\n",
            "\u001b[K     |████████████████████████████████| 745 kB 70.9 MB/s \n",
            "\u001b[?25hCollecting flask-cors\n",
            "  Downloading Flask_Cors-3.0.10-py2.py3-none-any.whl (14 kB)\n",
            "Requirement already satisfied: tqdm in /usr/local/lib/python3.7/dist-packages (from lama-cleaner) (4.64.1)\n",
            "Requirement already satisfied: markupsafe==2.0.1 in /usr/local/lib/python3.7/dist-packages (from lama-cleaner) (2.0.1)\n",
            "Collecting loguru\n",
            "  Downloading loguru-0.6.0-py3-none-any.whl (58 kB)\n",
            "\u001b[K     |████████████████████████████████| 58 kB 7.3 MB/s \n",
            "\u001b[?25hRequirement already satisfied: torch>=1.9.0 in /usr/local/lib/python3.7/dist-packages (from lama-cleaner) (1.12.1+cu113)\n",
            "Collecting yacs\n",
            "  Downloading yacs-0.1.8-py3-none-any.whl (14 kB)\n",
            "Collecting flaskwebgui==0.3.5\n",
            "  Downloading flaskwebgui-0.3.5-py3-none-any.whl (7.9 kB)\n",
            "Collecting scikit-image==0.19.3\n",
            "  Downloading scikit_image-0.19.3-cp37-cp37m-manylinux_2_12_x86_64.manylinux2010_x86_64.whl (13.5 MB)\n",
            "\u001b[K     |████████████████████████████████| 13.5 MB 53.1 MB/s \n",
            "\u001b[?25hRequirement already satisfied: opencv-python in /usr/local/lib/python3.7/dist-packages (from lama-cleaner) (4.6.0.66)\n",
            "Requirement already satisfied: pydantic in /usr/local/lib/python3.7/dist-packages (from lama-cleaner) (1.10.2)\n",
            "Collecting diffusers==0.6.0\n",
            "  Downloading diffusers-0.6.0-py3-none-any.whl (255 kB)\n",
            "\u001b[K     |████████████████████████████████| 255 kB 69.2 MB/s \n",
            "\u001b[?25hRequirement already satisfied: pytest in /usr/local/lib/python3.7/dist-packages (from lama-cleaner) (3.6.4)\n",
            "Collecting transformers==4.21.0\n",
            "  Downloading transformers-4.21.0-py3-none-any.whl (4.7 MB)\n",
            "\u001b[K     |████████████████████████████████| 4.7 MB 47.9 MB/s \n",
            "\u001b[?25hRequirement already satisfied: flask==1.1.4 in /usr/local/lib/python3.7/dist-packages (from lama-cleaner) (1.1.4)\n",
            "Requirement already satisfied: Pillow<10.0 in /usr/local/lib/python3.7/dist-packages (from diffusers==0.6.0->lama-cleaner) (7.1.2)\n",
            "Requirement already satisfied: filelock in /usr/local/lib/python3.7/dist-packages (from diffusers==0.6.0->lama-cleaner) (3.8.0)\n",
            "Requirement already satisfied: regex!=2019.12.17 in /usr/local/lib/python3.7/dist-packages (from diffusers==0.6.0->lama-cleaner) (2022.6.2)\n",
            "Requirement already satisfied: requests in /usr/local/lib/python3.7/dist-packages (from diffusers==0.6.0->lama-cleaner) (2.23.0)\n",
            "Requirement already satisfied: numpy in /usr/local/lib/python3.7/dist-packages (from diffusers==0.6.0->lama-cleaner) (1.21.6)\n",
            "Collecting huggingface-hub>=0.10.0\n",
            "  Downloading huggingface_hub-0.10.1-py3-none-any.whl (163 kB)\n",
            "\u001b[K     |████████████████████████████████| 163 kB 68.5 MB/s \n",
            "\u001b[?25hRequirement already satisfied: importlib-metadata in /usr/local/lib/python3.7/dist-packages (from diffusers==0.6.0->lama-cleaner) (4.13.0)\n",
            "Requirement already satisfied: Jinja2<3.0,>=2.10.1 in /usr/local/lib/python3.7/dist-packages (from flask==1.1.4->lama-cleaner) (2.11.3)\n",
            "Requirement already satisfied: click<8.0,>=5.1 in /usr/local/lib/python3.7/dist-packages (from flask==1.1.4->lama-cleaner) (7.1.2)\n",
            "Requirement already satisfied: Werkzeug<2.0,>=0.15 in /usr/local/lib/python3.7/dist-packages (from flask==1.1.4->lama-cleaner) (1.0.1)\n",
            "Requirement already satisfied: itsdangerous<2.0,>=0.24 in /usr/local/lib/python3.7/dist-packages (from flask==1.1.4->lama-cleaner) (1.1.0)\n",
            "Collecting whichcraft\n",
            "  Downloading whichcraft-0.6.1-py2.py3-none-any.whl (5.2 kB)\n",
            "Requirement already satisfied: tifffile>=2019.7.26 in /usr/local/lib/python3.7/dist-packages (from scikit-image==0.19.3->lama-cleaner) (2021.11.2)\n",
            "Requirement already satisfied: networkx>=2.2 in /usr/local/lib/python3.7/dist-packages (from scikit-image==0.19.3->lama-cleaner) (2.6.3)\n",
            "Requirement already satisfied: PyWavelets>=1.1.1 in /usr/local/lib/python3.7/dist-packages (from scikit-image==0.19.3->lama-cleaner) (1.3.0)\n",
            "Requirement already satisfied: packaging>=20.0 in /usr/local/lib/python3.7/dist-packages (from scikit-image==0.19.3->lama-cleaner) (21.3)\n",
            "Requirement already satisfied: scipy>=1.4.1 in /usr/local/lib/python3.7/dist-packages (from scikit-image==0.19.3->lama-cleaner) (1.7.3)\n",
            "Requirement already satisfied: imageio>=2.4.1 in /usr/local/lib/python3.7/dist-packages (from scikit-image==0.19.3->lama-cleaner) (2.9.0)\n",
            "Requirement already satisfied: pyyaml>=5.1 in /usr/local/lib/python3.7/dist-packages (from transformers==4.21.0->lama-cleaner) (6.0)\n",
            "Collecting tokenizers!=0.11.3,<0.13,>=0.11.1\n",
            "  Downloading tokenizers-0.12.1-cp37-cp37m-manylinux_2_12_x86_64.manylinux2010_x86_64.whl (6.6 MB)\n",
            "\u001b[K     |████████████████████████████████| 6.6 MB 57.6 MB/s \n",
            "\u001b[?25hRequirement already satisfied: typing-extensions>=3.7.4.3 in /usr/local/lib/python3.7/dist-packages (from huggingface-hub>=0.10.0->diffusers==0.6.0->lama-cleaner) (4.1.1)\n",
            "Requirement already satisfied: pyparsing!=3.0.5,>=2.0.2 in /usr/local/lib/python3.7/dist-packages (from packaging>=20.0->scikit-image==0.19.3->lama-cleaner) (3.0.9)\n",
            "Requirement already satisfied: Six in /usr/local/lib/python3.7/dist-packages (from flask-cors->lama-cleaner) (1.15.0)\n",
            "Requirement already satisfied: zipp>=0.5 in /usr/local/lib/python3.7/dist-packages (from importlib-metadata->diffusers==0.6.0->lama-cleaner) (3.10.0)\n",
            "Requirement already satisfied: atomicwrites>=1.0 in /usr/local/lib/python3.7/dist-packages (from pytest->lama-cleaner) (1.4.1)\n",
            "Requirement already satisfied: setuptools in /usr/local/lib/python3.7/dist-packages (from pytest->lama-cleaner) (57.4.0)\n",
            "Requirement already satisfied: attrs>=17.4.0 in /usr/local/lib/python3.7/dist-packages (from pytest->lama-cleaner) (22.1.0)\n",
            "Requirement already satisfied: py>=1.5.0 in /usr/local/lib/python3.7/dist-packages (from pytest->lama-cleaner) (1.11.0)\n",
            "Requirement already satisfied: pluggy<0.8,>=0.5 in /usr/local/lib/python3.7/dist-packages (from pytest->lama-cleaner) (0.7.1)\n",
            "Requirement already satisfied: more-itertools>=4.0.0 in /usr/local/lib/python3.7/dist-packages (from pytest->lama-cleaner) (9.0.0)\n",
            "Requirement already satisfied: certifi>=2017.4.17 in /usr/local/lib/python3.7/dist-packages (from requests->diffusers==0.6.0->lama-cleaner) (2022.9.24)\n",
            "Requirement already satisfied: idna<3,>=2.5 in /usr/local/lib/python3.7/dist-packages (from requests->diffusers==0.6.0->lama-cleaner) (2.10)\n",
            "Requirement already satisfied: chardet<4,>=3.0.2 in /usr/local/lib/python3.7/dist-packages (from requests->diffusers==0.6.0->lama-cleaner) (3.0.4)\n",
            "Requirement already satisfied: urllib3!=1.25.0,!=1.25.1,<1.26,>=1.21.1 in /usr/local/lib/python3.7/dist-packages (from requests->diffusers==0.6.0->lama-cleaner) (1.24.3)\n",
            "Building wheels for collected packages: pyngrok\n",
            "  Building wheel for pyngrok (setup.py) ... \u001b[?25l\u001b[?25hdone\n",
            "  Created wheel for pyngrok: filename=pyngrok-5.1.0-py3-none-any.whl size=19007 sha256=71f80f6d6a8df6d3036d997a7be091026caf372c47ef0203c309a189a3486ce4\n",
            "  Stored in directory: /root/.cache/pip/wheels/bf/e6/af/ccf6598ecefecd44104069371795cb9b3afbcd16987f6ccfb3\n",
            "Successfully built pyngrok\n",
            "Installing collected packages: whichcraft, tokenizers, huggingface-hub, yacs, transformers, scikit-image, loguru, flaskwebgui, flask-cors, diffusers, pyngrok, lama-cleaner\n",
            "  Attempting uninstall: scikit-image\n",
            "    Found existing installation: scikit-image 0.18.3\n",
            "    Uninstalling scikit-image-0.18.3:\n",
            "      Successfully uninstalled scikit-image-0.18.3\n",
            "Successfully installed diffusers-0.6.0 flask-cors-3.0.10 flaskwebgui-0.3.5 huggingface-hub-0.10.1 lama-cleaner-0.25.0 loguru-0.6.0 pyngrok-5.1.0 scikit-image-0.19.3 tokenizers-0.12.1 transformers-4.21.0 whichcraft-0.6.1 yacs-0.1.8\n"
          ]
        }
      ],
      "source": [
        "#@title 1. Install package\n",
        "#@markdown Github Project:\n",
        "#@markdown - https://github.com/Sanster/lama-cleaner\n",
        "\n",
        "!pip3 install lama-cleaner pyngrok"
      ]
    },
    {
      "cell_type": "code",
      "source": [
        "#@title 2. Setup ngrok\n",
        "\n",
        "#@markdown Get a free [ngrok](https://ngrok.com/) account and copy your authtoken [here](https://dashboard.ngrok.com/get-started/your-authtoken).\n",
        "ngrok_authtoken = '' #@param {type: 'string'}\n",
        "port = 4242\n",
        "\n",
        "!ngrok authtoken $ngrok_authtoken\n",
        "from pyngrok import ngrok\n",
        "public_url = ngrok.connect(port).public_url\n",
        "print(f\"ngrok public url: {public_url}. Open this url after Lama Cleaner server start successful(See 'Running on http://0.0.0.0:4242/' in the log)\")"
      ],
      "metadata": {
        "id": "qKe0DDAUgGBw",
        "colab": {
          "base_uri": "https://localhost:8080/"
        },
        "outputId": "238dedf5-a7e1-4797-a91a-d0bf812ec5cc"
      },
      "execution_count": 6,
      "outputs": [
        {
          "output_type": "stream",
          "name": "stdout",
          "text": [
            "Authtoken saved to configuration file: /root/.ngrok2/ngrok.yml\n",
            "ngrok public url: http://9516-34-87-82-132.ngrok.io. Open this url after Lama Cleaner server start successful(See 'Running on http://0.0.0.0:4242/' in the log)\n"
          ]
        }
      ]
    },
    {
      "cell_type": "code",
      "source": [
        "#@title 3. Start Lama Cleaner server\n",
        "#@markdown Inpainting model.\n",
        "init_model = 'lama' #@param ['lama', 'sd1.5'] \n",
        "\n",
        "#@markdown For **sd1.5** model you need to accepting the terms to access https://huggingface.co/runwayml/stable-diffusion-inpainting, and get an access token here https://huggingface.co/docs/hub/security-tokens\n",
        "hf_access_token = \"token\" #@param {type: 'string'}\n",
        "\n",
        "!lama-cleaner --host 0.0.0.0 --port $port --model $init_model --hf_access_token $hf_access_token"
      ],
      "metadata": {
        "id": "AlZ4devxcxCS",
        "colab": {
          "base_uri": "https://localhost:8080/"
        },
        "outputId": "1da5fed4-cefc-4aa6-a591-c1c4b14d1d9f"
      },
      "execution_count": null,
      "outputs": [
        {
          "output_type": "stream",
          "name": "stdout",
          "text": [
            "Downloading: \"https://github.com/Sanster/models/releases/download/add_big_lama/big-lama.pt\" to /root/.cache/torch/hub/checkpoints/big-lama.pt\n",
            "100% 196M/196M [00:32<00:00, 6.28MB/s]\n",
            "\u001b[32m2022-11-10 21:13:06.243\u001b[0m | \u001b[1mINFO    \u001b[0m | \u001b[36mlama_cleaner.model.lama\u001b[0m:\u001b[36minit_model\u001b[0m:\u001b[36m30\u001b[0m - \u001b[1mLoad LaMa model from: /root/.cache/torch/hub/checkpoints/big-lama.pt\u001b[0m\n",
            " * Running on http://0.0.0.0:4242/ (Press CTRL+C to quit)\n",
            "127.0.0.1 - - [10/Nov/2022 21:13:57] \"\u001b[37mGET / HTTP/1.1\u001b[0m\" 200 -\n",
            "127.0.0.1 - - [10/Nov/2022 21:13:58] \"\u001b[37mGET /static/css/main.77e9be72.chunk.css HTTP/1.1\u001b[0m\" 200 -\n",
            "127.0.0.1 - - [10/Nov/2022 21:13:58] \"\u001b[37mGET /static/js/2.17f9840f.chunk.js HTTP/1.1\u001b[0m\" 200 -\n",
            "127.0.0.1 - - [10/Nov/2022 21:13:58] \"\u001b[37mGET /static/js/main.924b1592.chunk.js HTTP/1.1\u001b[0m\" 200 -\n",
            "127.0.0.1 - - [10/Nov/2022 21:13:58] \"\u001b[37mGET /static/media/WorkSans-Regular.bb287b89.ttf HTTP/1.1\u001b[0m\" 200 -\n",
            "127.0.0.1 - - [10/Nov/2022 21:13:59] \"\u001b[37mGET /model HTTP/1.1\u001b[0m\" 200 -\n",
            "127.0.0.1 - - [10/Nov/2022 21:13:59] \"\u001b[37mGET /inputimage HTTP/1.1\u001b[0m\" 200 -\n",
            "127.0.0.1 - - [10/Nov/2022 21:14:07] \"\u001b[37mGET /model HTTP/1.1\u001b[0m\" 200 -\n",
            "127.0.0.1 - - [10/Nov/2022 21:14:07] \"\u001b[37mGET /model HTTP/1.1\u001b[0m\" 200 -\n",
            "\u001b[32m2022-11-10 21:14:35.738\u001b[0m | \u001b[1mINFO    \u001b[0m | \u001b[36mlama_cleaner.server\u001b[0m:\u001b[36mprocess\u001b[0m:\u001b[36m134\u001b[0m - \u001b[1mOrigin image shape: (293, 512, 3)\u001b[0m\n",
            "\u001b[32m2022-11-10 21:14:35.738\u001b[0m | \u001b[1mINFO    \u001b[0m | \u001b[36mlama_cleaner.server\u001b[0m:\u001b[36mprocess\u001b[0m:\u001b[36m136\u001b[0m - \u001b[1mResized image shape: (293, 512, 3)\u001b[0m\n",
            "\u001b[32m2022-11-10 21:14:35.740\u001b[0m | \u001b[1mINFO    \u001b[0m | \u001b[36mlama_cleaner.model.base\u001b[0m:\u001b[36m__call__\u001b[0m:\u001b[36m70\u001b[0m - \u001b[1mhd_strategy: Crop\u001b[0m\n",
            "\u001b[32m2022-11-10 21:14:35.744\u001b[0m | \u001b[1mINFO    \u001b[0m | \u001b[36mlama_cleaner.model.base\u001b[0m:\u001b[36m_pad_forward\u001b[0m:\u001b[36m53\u001b[0m - \u001b[1mfinal forward pad size: (296, 512, 3)\u001b[0m\n",
            "\u001b[32m2022-11-10 21:14:42.125\u001b[0m | \u001b[1mINFO    \u001b[0m | \u001b[36mlama_cleaner.server\u001b[0m:\u001b[36mprocess\u001b[0m:\u001b[36m143\u001b[0m - \u001b[1mprocess time: 6385.052442550659ms\u001b[0m\n",
            "127.0.0.1 - - [10/Nov/2022 21:14:42] \"\u001b[37mPOST /inpaint HTTP/1.1\u001b[0m\" 200 -\n",
            "\u001b[32m2022-11-10 21:14:53.536\u001b[0m | \u001b[1mINFO    \u001b[0m | \u001b[36mlama_cleaner.server\u001b[0m:\u001b[36mprocess\u001b[0m:\u001b[36m134\u001b[0m - \u001b[1mOrigin image shape: (293, 512, 3)\u001b[0m\n",
            "\u001b[32m2022-11-10 21:14:53.536\u001b[0m | \u001b[1mINFO    \u001b[0m | \u001b[36mlama_cleaner.server\u001b[0m:\u001b[36mprocess\u001b[0m:\u001b[36m136\u001b[0m - \u001b[1mResized image shape: (293, 512, 3)\u001b[0m\n",
            "\u001b[32m2022-11-10 21:14:53.538\u001b[0m | \u001b[1mINFO    \u001b[0m | \u001b[36mlama_cleaner.model.base\u001b[0m:\u001b[36m__call__\u001b[0m:\u001b[36m70\u001b[0m - \u001b[1mhd_strategy: Crop\u001b[0m\n",
            "\u001b[32m2022-11-10 21:14:53.538\u001b[0m | \u001b[1mINFO    \u001b[0m | \u001b[36mlama_cleaner.model.base\u001b[0m:\u001b[36m_pad_forward\u001b[0m:\u001b[36m53\u001b[0m - \u001b[1mfinal forward pad size: (296, 512, 3)\u001b[0m\n",
            "\u001b[32m2022-11-10 21:14:53.962\u001b[0m | \u001b[1mINFO    \u001b[0m | \u001b[36mlama_cleaner.server\u001b[0m:\u001b[36mprocess\u001b[0m:\u001b[36m143\u001b[0m - \u001b[1mprocess time: 424.4105815887451ms\u001b[0m\n",
            "127.0.0.1 - - [10/Nov/2022 21:14:53] \"\u001b[37mPOST /inpaint HTTP/1.1\u001b[0m\" 200 -\n",
            "\u001b[32m2022-11-10 21:15:01.769\u001b[0m | \u001b[1mINFO    \u001b[0m | \u001b[36mlama_cleaner.server\u001b[0m:\u001b[36mprocess\u001b[0m:\u001b[36m134\u001b[0m - \u001b[1mOrigin image shape: (293, 512, 3)\u001b[0m\n",
            "\u001b[32m2022-11-10 21:15:01.769\u001b[0m | \u001b[1mINFO    \u001b[0m | \u001b[36mlama_cleaner.server\u001b[0m:\u001b[36mprocess\u001b[0m:\u001b[36m136\u001b[0m - \u001b[1mResized image shape: (293, 512, 3)\u001b[0m\n",
            "\u001b[32m2022-11-10 21:15:01.771\u001b[0m | \u001b[1mINFO    \u001b[0m | \u001b[36mlama_cleaner.model.base\u001b[0m:\u001b[36m__call__\u001b[0m:\u001b[36m70\u001b[0m - \u001b[1mhd_strategy: Crop\u001b[0m\n",
            "\u001b[32m2022-11-10 21:15:01.772\u001b[0m | \u001b[1mINFO    \u001b[0m | \u001b[36mlama_cleaner.model.base\u001b[0m:\u001b[36m_pad_forward\u001b[0m:\u001b[36m53\u001b[0m - \u001b[1mfinal forward pad size: (296, 512, 3)\u001b[0m\n",
            "\u001b[32m2022-11-10 21:15:01.918\u001b[0m | \u001b[1mINFO    \u001b[0m | \u001b[36mlama_cleaner.server\u001b[0m:\u001b[36mprocess\u001b[0m:\u001b[36m143\u001b[0m - \u001b[1mprocess time: 146.76403999328613ms\u001b[0m\n",
            "127.0.0.1 - - [10/Nov/2022 21:15:01] \"\u001b[37mPOST /inpaint HTTP/1.1\u001b[0m\" 200 -\n",
            "\u001b[32m2022-11-10 21:15:08.730\u001b[0m | \u001b[1mINFO    \u001b[0m | \u001b[36mlama_cleaner.server\u001b[0m:\u001b[36mprocess\u001b[0m:\u001b[36m134\u001b[0m - \u001b[1mOrigin image shape: (293, 512, 3)\u001b[0m\n",
            "\u001b[32m2022-11-10 21:15:08.730\u001b[0m | \u001b[1mINFO    \u001b[0m | \u001b[36mlama_cleaner.server\u001b[0m:\u001b[36mprocess\u001b[0m:\u001b[36m136\u001b[0m - \u001b[1mResized image shape: (293, 512, 3)\u001b[0m\n",
            "\u001b[32m2022-11-10 21:15:08.732\u001b[0m | \u001b[1mINFO    \u001b[0m | \u001b[36mlama_cleaner.model.base\u001b[0m:\u001b[36m__call__\u001b[0m:\u001b[36m70\u001b[0m - \u001b[1mhd_strategy: Crop\u001b[0m\n",
            "\u001b[32m2022-11-10 21:15:08.733\u001b[0m | \u001b[1mINFO    \u001b[0m | \u001b[36mlama_cleaner.model.base\u001b[0m:\u001b[36m_pad_forward\u001b[0m:\u001b[36m53\u001b[0m - \u001b[1mfinal forward pad size: (296, 512, 3)\u001b[0m\n",
            "\u001b[32m2022-11-10 21:15:08.890\u001b[0m | \u001b[1mINFO    \u001b[0m | \u001b[36mlama_cleaner.server\u001b[0m:\u001b[36mprocess\u001b[0m:\u001b[36m143\u001b[0m - \u001b[1mprocess time: 158.02431106567383ms\u001b[0m\n",
            "127.0.0.1 - - [10/Nov/2022 21:15:08] \"\u001b[37mPOST /inpaint HTTP/1.1\u001b[0m\" 200 -\n",
            "\u001b[32m2022-11-10 21:15:21.398\u001b[0m | \u001b[1mINFO    \u001b[0m | \u001b[36mlama_cleaner.server\u001b[0m:\u001b[36mprocess\u001b[0m:\u001b[36m134\u001b[0m - \u001b[1mOrigin image shape: (293, 512, 3)\u001b[0m\n",
            "\u001b[32m2022-11-10 21:15:21.398\u001b[0m | \u001b[1mINFO    \u001b[0m | \u001b[36mlama_cleaner.server\u001b[0m:\u001b[36mprocess\u001b[0m:\u001b[36m136\u001b[0m - \u001b[1mResized image shape: (293, 512, 3)\u001b[0m\n",
            "\u001b[32m2022-11-10 21:15:21.400\u001b[0m | \u001b[1mINFO    \u001b[0m | \u001b[36mlama_cleaner.model.base\u001b[0m:\u001b[36m__call__\u001b[0m:\u001b[36m70\u001b[0m - \u001b[1mhd_strategy: Crop\u001b[0m\n",
            "\u001b[32m2022-11-10 21:15:21.400\u001b[0m | \u001b[1mINFO    \u001b[0m | \u001b[36mlama_cleaner.model.base\u001b[0m:\u001b[36m_pad_forward\u001b[0m:\u001b[36m53\u001b[0m - \u001b[1mfinal forward pad size: (296, 512, 3)\u001b[0m\n",
            "\u001b[32m2022-11-10 21:15:21.553\u001b[0m | \u001b[1mINFO    \u001b[0m | \u001b[36mlama_cleaner.server\u001b[0m:\u001b[36mprocess\u001b[0m:\u001b[36m143\u001b[0m - \u001b[1mprocess time: 153.81836891174316ms\u001b[0m\n",
            "127.0.0.1 - - [10/Nov/2022 21:15:21] \"\u001b[37mPOST /inpaint HTTP/1.1\u001b[0m\" 200 -\n",
            "\u001b[32m2022-11-10 21:15:30.690\u001b[0m | \u001b[1mINFO    \u001b[0m | \u001b[36mlama_cleaner.server\u001b[0m:\u001b[36mprocess\u001b[0m:\u001b[36m134\u001b[0m - \u001b[1mOrigin image shape: (293, 512, 3)\u001b[0m\n",
            "\u001b[32m2022-11-10 21:15:30.691\u001b[0m | \u001b[1mINFO    \u001b[0m | \u001b[36mlama_cleaner.server\u001b[0m:\u001b[36mprocess\u001b[0m:\u001b[36m136\u001b[0m - \u001b[1mResized image shape: (293, 512, 3)\u001b[0m\n",
            "\u001b[32m2022-11-10 21:15:30.692\u001b[0m | \u001b[1mINFO    \u001b[0m | \u001b[36mlama_cleaner.model.base\u001b[0m:\u001b[36m__call__\u001b[0m:\u001b[36m70\u001b[0m - \u001b[1mhd_strategy: Crop\u001b[0m\n",
            "\u001b[32m2022-11-10 21:15:30.693\u001b[0m | \u001b[1mINFO    \u001b[0m | \u001b[36mlama_cleaner.model.base\u001b[0m:\u001b[36m_pad_forward\u001b[0m:\u001b[36m53\u001b[0m - \u001b[1mfinal forward pad size: (296, 512, 3)\u001b[0m\n",
            "\u001b[32m2022-11-10 21:15:30.839\u001b[0m | \u001b[1mINFO    \u001b[0m | \u001b[36mlama_cleaner.server\u001b[0m:\u001b[36mprocess\u001b[0m:\u001b[36m143\u001b[0m - \u001b[1mprocess time: 146.7578411102295ms\u001b[0m\n",
            "127.0.0.1 - - [10/Nov/2022 21:15:30] \"\u001b[37mPOST /inpaint HTTP/1.1\u001b[0m\" 200 -\n",
            "\u001b[32m2022-11-10 21:15:43.796\u001b[0m | \u001b[1mINFO    \u001b[0m | \u001b[36mlama_cleaner.server\u001b[0m:\u001b[36mprocess\u001b[0m:\u001b[36m134\u001b[0m - \u001b[1mOrigin image shape: (293, 512, 3)\u001b[0m\n",
            "\u001b[32m2022-11-10 21:15:43.796\u001b[0m | \u001b[1mINFO    \u001b[0m | \u001b[36mlama_cleaner.server\u001b[0m:\u001b[36mprocess\u001b[0m:\u001b[36m136\u001b[0m - \u001b[1mResized image shape: (293, 512, 3)\u001b[0m\n",
            "\u001b[32m2022-11-10 21:15:43.797\u001b[0m | \u001b[1mINFO    \u001b[0m | \u001b[36mlama_cleaner.model.base\u001b[0m:\u001b[36m__call__\u001b[0m:\u001b[36m70\u001b[0m - \u001b[1mhd_strategy: Crop\u001b[0m\n",
            "\u001b[32m2022-11-10 21:15:43.798\u001b[0m | \u001b[1mINFO    \u001b[0m | \u001b[36mlama_cleaner.model.base\u001b[0m:\u001b[36m_pad_forward\u001b[0m:\u001b[36m53\u001b[0m - \u001b[1mfinal forward pad size: (296, 512, 3)\u001b[0m\n",
            "\u001b[32m2022-11-10 21:15:43.951\u001b[0m | \u001b[1mINFO    \u001b[0m | \u001b[36mlama_cleaner.server\u001b[0m:\u001b[36mprocess\u001b[0m:\u001b[36m143\u001b[0m - \u001b[1mprocess time: 153.78665924072266ms\u001b[0m\n",
            "127.0.0.1 - - [10/Nov/2022 21:15:43] \"\u001b[37mPOST /inpaint HTTP/1.1\u001b[0m\" 200 -\n",
            "\u001b[32m2022-11-10 21:15:55.328\u001b[0m | \u001b[1mINFO    \u001b[0m | \u001b[36mlama_cleaner.server\u001b[0m:\u001b[36mprocess\u001b[0m:\u001b[36m134\u001b[0m - \u001b[1mOrigin image shape: (293, 512, 3)\u001b[0m\n",
            "\u001b[32m2022-11-10 21:15:55.329\u001b[0m | \u001b[1mINFO    \u001b[0m | \u001b[36mlama_cleaner.server\u001b[0m:\u001b[36mprocess\u001b[0m:\u001b[36m136\u001b[0m - \u001b[1mResized image shape: (293, 512, 3)\u001b[0m\n",
            "\u001b[32m2022-11-10 21:15:55.330\u001b[0m | \u001b[1mINFO    \u001b[0m | \u001b[36mlama_cleaner.model.base\u001b[0m:\u001b[36m__call__\u001b[0m:\u001b[36m70\u001b[0m - \u001b[1mhd_strategy: Crop\u001b[0m\n",
            "\u001b[32m2022-11-10 21:15:55.331\u001b[0m | \u001b[1mINFO    \u001b[0m | \u001b[36mlama_cleaner.model.base\u001b[0m:\u001b[36m_pad_forward\u001b[0m:\u001b[36m53\u001b[0m - \u001b[1mfinal forward pad size: (296, 512, 3)\u001b[0m\n",
            "\u001b[32m2022-11-10 21:15:55.484\u001b[0m | \u001b[1mINFO    \u001b[0m | \u001b[36mlama_cleaner.server\u001b[0m:\u001b[36mprocess\u001b[0m:\u001b[36m143\u001b[0m - \u001b[1mprocess time: 153.4292697906494ms\u001b[0m\n",
            "127.0.0.1 - - [10/Nov/2022 21:15:55] \"\u001b[37mPOST /inpaint HTTP/1.1\u001b[0m\" 200 -\n",
            "127.0.0.1 - - [10/Nov/2022 21:16:04] \"\u001b[37mGET /model HTTP/1.1\u001b[0m\" 200 -\n",
            "\u001b[32m2022-11-10 21:16:17.470\u001b[0m | \u001b[1mINFO    \u001b[0m | \u001b[36mlama_cleaner.server\u001b[0m:\u001b[36mprocess\u001b[0m:\u001b[36m134\u001b[0m - \u001b[1mOrigin image shape: (293, 512, 3)\u001b[0m\n",
            "\u001b[32m2022-11-10 21:16:17.470\u001b[0m | \u001b[1mINFO    \u001b[0m | \u001b[36mlama_cleaner.server\u001b[0m:\u001b[36mprocess\u001b[0m:\u001b[36m136\u001b[0m - \u001b[1mResized image shape: (293, 512, 3)\u001b[0m\n",
            "\u001b[32m2022-11-10 21:16:17.472\u001b[0m | \u001b[1mINFO    \u001b[0m | \u001b[36mlama_cleaner.model.base\u001b[0m:\u001b[36m__call__\u001b[0m:\u001b[36m70\u001b[0m - \u001b[1mhd_strategy: Crop\u001b[0m\n",
            "\u001b[32m2022-11-10 21:16:17.472\u001b[0m | \u001b[1mINFO    \u001b[0m | \u001b[36mlama_cleaner.model.base\u001b[0m:\u001b[36m_pad_forward\u001b[0m:\u001b[36m53\u001b[0m - \u001b[1mfinal forward pad size: (296, 512, 3)\u001b[0m\n",
            "\u001b[32m2022-11-10 21:16:17.626\u001b[0m | \u001b[1mINFO    \u001b[0m | \u001b[36mlama_cleaner.server\u001b[0m:\u001b[36mprocess\u001b[0m:\u001b[36m143\u001b[0m - \u001b[1mprocess time: 153.69462966918945ms\u001b[0m\n",
            "127.0.0.1 - - [10/Nov/2022 21:16:17] \"\u001b[37mPOST /inpaint HTTP/1.1\u001b[0m\" 200 -\n",
            "\u001b[32m2022-11-10 21:16:37.104\u001b[0m | \u001b[1mINFO    \u001b[0m | \u001b[36mlama_cleaner.server\u001b[0m:\u001b[36mprocess\u001b[0m:\u001b[36m134\u001b[0m - \u001b[1mOrigin image shape: (293, 512, 3)\u001b[0m\n",
            "\u001b[32m2022-11-10 21:16:37.104\u001b[0m | \u001b[1mINFO    \u001b[0m | \u001b[36mlama_cleaner.server\u001b[0m:\u001b[36mprocess\u001b[0m:\u001b[36m136\u001b[0m - \u001b[1mResized image shape: (293, 512, 3)\u001b[0m\n",
            "\u001b[32m2022-11-10 21:16:37.105\u001b[0m | \u001b[1mINFO    \u001b[0m | \u001b[36mlama_cleaner.model.base\u001b[0m:\u001b[36m__call__\u001b[0m:\u001b[36m70\u001b[0m - \u001b[1mhd_strategy: Crop\u001b[0m\n",
            "\u001b[32m2022-11-10 21:16:37.106\u001b[0m | \u001b[1mINFO    \u001b[0m | \u001b[36mlama_cleaner.model.base\u001b[0m:\u001b[36m_pad_forward\u001b[0m:\u001b[36m53\u001b[0m - \u001b[1mfinal forward pad size: (296, 512, 3)\u001b[0m\n",
            "\u001b[32m2022-11-10 21:16:37.258\u001b[0m | \u001b[1mINFO    \u001b[0m | \u001b[36mlama_cleaner.server\u001b[0m:\u001b[36mprocess\u001b[0m:\u001b[36m143\u001b[0m - \u001b[1mprocess time: 152.97508239746094ms\u001b[0m\n",
            "127.0.0.1 - - [10/Nov/2022 21:16:37] \"\u001b[37mPOST /inpaint HTTP/1.1\u001b[0m\" 200 -\n",
            "\u001b[32m2022-11-10 21:16:49.031\u001b[0m | \u001b[1mINFO    \u001b[0m | \u001b[36mlama_cleaner.server\u001b[0m:\u001b[36mprocess\u001b[0m:\u001b[36m134\u001b[0m - \u001b[1mOrigin image shape: (293, 512, 3)\u001b[0m\n",
            "\u001b[32m2022-11-10 21:16:49.031\u001b[0m | \u001b[1mINFO    \u001b[0m | \u001b[36mlama_cleaner.server\u001b[0m:\u001b[36mprocess\u001b[0m:\u001b[36m136\u001b[0m - \u001b[1mResized image shape: (293, 512, 3)\u001b[0m\n",
            "\u001b[32m2022-11-10 21:16:49.033\u001b[0m | \u001b[1mINFO    \u001b[0m | \u001b[36mlama_cleaner.model.base\u001b[0m:\u001b[36m__call__\u001b[0m:\u001b[36m70\u001b[0m - \u001b[1mhd_strategy: Crop\u001b[0m\n",
            "\u001b[32m2022-11-10 21:16:49.033\u001b[0m | \u001b[1mINFO    \u001b[0m | \u001b[36mlama_cleaner.model.base\u001b[0m:\u001b[36m_pad_forward\u001b[0m:\u001b[36m53\u001b[0m - \u001b[1mfinal forward pad size: (296, 512, 3)\u001b[0m\n",
            "\u001b[32m2022-11-10 21:16:49.184\u001b[0m | \u001b[1mINFO    \u001b[0m | \u001b[36mlama_cleaner.server\u001b[0m:\u001b[36mprocess\u001b[0m:\u001b[36m143\u001b[0m - \u001b[1mprocess time: 151.564359664917ms\u001b[0m\n",
            "127.0.0.1 - - [10/Nov/2022 21:16:49] \"\u001b[37mPOST /inpaint HTTP/1.1\u001b[0m\" 200 -\n",
            "\u001b[32m2022-11-10 21:17:11.210\u001b[0m | \u001b[1mINFO    \u001b[0m | \u001b[36mlama_cleaner.server\u001b[0m:\u001b[36mprocess\u001b[0m:\u001b[36m134\u001b[0m - \u001b[1mOrigin image shape: (293, 512, 3)\u001b[0m\n",
            "\u001b[32m2022-11-10 21:17:11.210\u001b[0m | \u001b[1mINFO    \u001b[0m | \u001b[36mlama_cleaner.server\u001b[0m:\u001b[36mprocess\u001b[0m:\u001b[36m136\u001b[0m - \u001b[1mResized image shape: (293, 512, 3)\u001b[0m\n",
            "\u001b[32m2022-11-10 21:17:11.212\u001b[0m | \u001b[1mINFO    \u001b[0m | \u001b[36mlama_cleaner.model.base\u001b[0m:\u001b[36m__call__\u001b[0m:\u001b[36m70\u001b[0m - \u001b[1mhd_strategy: Crop\u001b[0m\n",
            "\u001b[32m2022-11-10 21:17:11.212\u001b[0m | \u001b[1mINFO    \u001b[0m | \u001b[36mlama_cleaner.model.base\u001b[0m:\u001b[36m_pad_forward\u001b[0m:\u001b[36m53\u001b[0m - \u001b[1mfinal forward pad size: (296, 512, 3)\u001b[0m\n",
            "\u001b[32m2022-11-10 21:17:11.365\u001b[0m | \u001b[1mINFO    \u001b[0m | \u001b[36mlama_cleaner.server\u001b[0m:\u001b[36mprocess\u001b[0m:\u001b[36m143\u001b[0m - \u001b[1mprocess time: 153.08523178100586ms\u001b[0m\n",
            "127.0.0.1 - - [10/Nov/2022 21:17:11] \"\u001b[37mPOST /inpaint HTTP/1.1\u001b[0m\" 200 -\n",
            "127.0.0.1 - - [10/Nov/2022 21:17:26] \"\u001b[37mGET /model HTTP/1.1\u001b[0m\" 200 -\n"
          ]
        }
      ]
    }
  ]
}